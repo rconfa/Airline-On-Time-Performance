{
  "nbformat": 4,
  "nbformat_minor": 0,
  "metadata": {
    "colab": {
      "name": "CSV_to_JSON.ipynb",
      "provenance": []
    },
    "kernelspec": {
      "name": "python3",
      "display_name": "Python 3"
    }
  },
  "cells": [
    {
      "cell_type": "code",
      "metadata": {
        "id": "Ou0BBqAHf8xm"
      },
      "source": [
        "import pandas as pd  # for csv reader\r\n",
        "import datetime \r\n",
        "import numpy as np  # for checking NaN values\r\n",
        "import json  # for writing file (temp)"
      ],
      "execution_count": null,
      "outputs": []
    },
    {
      "cell_type": "code",
      "metadata": {
        "id": "a8hXjrZcf9_W"
      },
      "source": [
        "# reading data files\r\n",
        "data = pd.read_csv('./2018_1.csv', usecols=list(range(0, 32)),\r\n",
        "                   # reading dates as string to simplify casting \r\n",
        "                   dtype={'CRS_DEP_TIME': str, 'DEP_TIME': str, \r\n",
        "                          'CRS_ARR_TIME': str, 'ARR_TIME': str})\r\n",
        "# converting crs departure/arrival time into date, these columns NOT contains NaN\r\n",
        "data['CRS_DEP_TIME'] = pd.to_datetime(data['CRS_DEP_TIME'], format='%H%M')\r\n",
        "data['CRS_ARR_TIME'] = pd.to_datetime(data['CRS_ARR_TIME'], format='%H%M')\r\n",
        "# converting real dep/arr time into date, if value is NaN it will be converted to NaT\r\n",
        "data['DEP_TIME'] = pd.to_datetime(data['DEP_TIME'], errors='coerce', format='%H%M')\r\n",
        "data['ARR_TIME'] = pd.to_datetime(data['ARR_TIME'], errors='coerce', format='%H%M')\r\n",
        "\r\n",
        "data.head()"
      ],
      "execution_count": null,
      "outputs": []
    },
    {
      "cell_type": "code",
      "metadata": {
        "id": "d_GdgXIpXx9w"
      },
      "source": [
        "# function that return True if a value is NaN or NaT in case of Date types\r\n",
        "def is_NaN(val):\r\n",
        "  # check string NaN\r\n",
        "  if isinstance(val, str) and not (val == '' or pd.isnull(val)):\r\n",
        "    return False\r\n",
        "  # check NaT/NaN value for date\r\n",
        "  elif not pd.isnull(val):\r\n",
        "    return False\r\n",
        "\r\n",
        "  return True"
      ],
      "execution_count": null,
      "outputs": []
    },
    {
      "cell_type": "code",
      "metadata": {
        "id": "0YEE5Y2d0KJP"
      },
      "source": [
        "# this function return a py dictionary (json file) with all the information of a\r\n",
        "# specific flight! Only valid values will be added to the fill \r\n",
        "# (i.e. NaN values will not be add, refers to db schema)\r\n",
        "def json_single_flight(fligth_data):\r\n",
        "  time_dic = {}\r\n",
        "\r\n",
        "  print(fligth_data)\r\n",
        "  # ailine's IATA code\r\n",
        "  time_dic['airline'] = fligth_data.OP_CARRIER\r\n",
        "  # departure time\r\n",
        "  time_dic['crs_dep_time'] = fligth_data.CRS_DEP_TIME.strftime(\"%H:%M\") # provare anche a salvare con .time() e con .to_pydate()\r\n",
        "\r\n",
        "  # saving departure time\r\n",
        "  if not is_NaN(fligth_data.DEP_TIME):\r\n",
        "    time_dic['dep_time'] = fligth_data.DEP_TIME.strftime(\"%H:%M\")\r\n",
        "  # saving delay as integer, cast will be always safe thanks to if\r\n",
        "  if not is_NaN(fligth_data.DEP_DELAY):\r\n",
        "    time_dic['dep_delay'] = int(fligth_data.DEP_DELAY)\r\n",
        "  # saving dep delay group as integer, cast will be always safe thanks to if\r\n",
        "  if not is_NaN(fligth_data.DEP_DELAY_GROUP):\r\n",
        "    time_dic['dep_delay_group'] = int(fligth_data.DEP_DELAY_GROUP)\r\n",
        "  # arrival time (Does not contains NaN)\r\n",
        "  time_dic['crs_arr_time'] = row.CRS_ARR_TIME.strftime(\"%H:%M\")\r\n",
        "  # saving arrival time\r\n",
        "  if not is_NaN(fligth_data.ARR_TIME):\r\n",
        "    time_dic['arr_time'] = fligth_data.ARR_TIME.strftime(\"%H:%M\")\r\n",
        "  # saving delay as integer, cast will be always safe thanks to if\r\n",
        "  if not is_NaN(fligth_data.ARR_DELAY):\r\n",
        "    time_dic['arr_delay'] = int(fligth_data.ARR_DELAY)\r\n",
        "  # saving arrival delay group as integer, cast will be always safe thanks to if\r\n",
        "  if not is_NaN(fligth_data.ARR_DELAY_GROUP):\r\n",
        "    time_dic['arr_delay_group'] = int(fligth_data.ARR_DELAY_GROUP)\r\n",
        "\r\n",
        "  # check if flight was cancelled (No NaN)\r\n",
        "  if fligth_data.CANCELLED == 1.0:\r\n",
        "    time_dic['cancelled'] = True\r\n",
        "    time_dic['cancellation_code'] = fligth_data.CANCELLATION_CODE\r\n",
        "  else:\r\n",
        "    time_dic['cancelled'] = False\r\n",
        "  # check if flight was diverted\r\n",
        "  if fligth_data.DIVERTED == 1.0:\r\n",
        "    time_dic['diverted'] = True\r\n",
        "  else:\r\n",
        "    time_dic['diverted'] = False\r\n",
        "\r\n",
        "  # saving crs Elapsed Time of Flight, cast will be always safe thanks to if\r\n",
        "  if not is_NaN(fligth_data.CRS_ELAPSED_TIME):\r\n",
        "    time_dic['crs_elapsed_time'] = int(fligth_data.CRS_ELAPSED_TIME)\r\n",
        "  # saving real Elapsed Time of Flight, cast will be always safe thanks to if\r\n",
        "  if not is_NaN(fligth_data.ACTUAL_ELAPSED_TIME):\r\n",
        "    time_dic['actual_elapsed_time'] = int(fligth_data.ACTUAL_ELAPSED_TIME)\r\n",
        "  # saving air Time of Flight, cast will be always safe thanks to if\r\n",
        "  if not is_NaN(fligth_data.AIR_TIME):\r\n",
        "    time_dic['air_time'] = int(fligth_data.AIR_TIME)\r\n",
        "  # saving carrier_delay of Flight, cast will be always safe thanks to if\r\n",
        "  if not is_NaN(fligth_data.CARRIER_DELAY):\r\n",
        "    time_dic['carrier_delay'] = int(fligth_data.CARRIER_DELAY)\r\n",
        "  # saving weather delay of Flight, cast will be always safe thanks to if\r\n",
        "  if not is_NaN(fligth_data.WEATHER_DELAY):\r\n",
        "    time_dic['weather_delay'] = int(fligth_data.WEATHER_DELAY)\r\n",
        "  # saving nas delay of Flight, cast will be always safe thanks to if\r\n",
        "  if not is_NaN(fligth_data.NAS_DELAY):\r\n",
        "    time_dic['nas_delay'] = int(fligth_data.NAS_DELAY)\r\n",
        "  # saving security delay of Flight, cast will be always safe thanks to if\r\n",
        "  if not is_NaN(fligth_data.SECURITY_DELAY):\r\n",
        "    time_dic['security_delay'] = int(fligth_data.SECURITY_DELAY)\r\n",
        "  # saving late aircraft delay of Flight, cast will be always safe thanks to if\r\n",
        "  if not is_NaN(fligth_data.LATE_AIRCRAFT_DELAY):\r\n",
        "    time_dic['late_aircraft_delay'] = int(fligth_data.LATE_AIRCRAFT_DELAY)\t\r\n",
        "\r\n",
        "  return time_dic"
      ],
      "execution_count": null,
      "outputs": []
    },
    {
      "cell_type": "code",
      "metadata": {
        "id": "XkmN1hTQinE3"
      },
      "source": [
        "data_groups = data.groupby(['DAY_OF_WEEK', 'ORIGIN', 'DEST'])"
      ],
      "execution_count": null,
      "outputs": []
    },
    {
      "cell_type": "code",
      "metadata": {
        "id": "S6rVdkm_jhB5"
      },
      "source": [
        "# Create a json file and upload it to the database for each group of \r\n",
        "# day-origin-destination (Remember: each file contains a specific month and year)\r\n",
        "for group in data_groups:\r\n",
        "  document = {}\r\n",
        "  # list of all flights for a specific day, origin and destination\r\n",
        "  flights = []\r\n",
        "  for flight in group[1].itertuples():\r\n",
        "    # Add basic information in case it is a new group\r\n",
        "    if document == {}:\r\n",
        "      document['year'] = flight.YEAR\r\n",
        "      document['month'] = flight.MONTH\r\n",
        "      document['day_of_month'] = flight.DAY_OF_MONTH\r\n",
        "      document['day_of_week'] = flight.DAY_OF_WEEK\r\n",
        "      document['origin'] = flight.ORIGIN\r\n",
        "      document['destination'] = flight.DEST\r\n",
        "      document['distance'] = int(flight.DISTANCE)\r\n",
        "      document['distance_group'] = flight.DISTANCE_GROUP\r\n",
        "    # Append all flight information to the list\r\n",
        "    flights.append(json_single_flight(flight))\r\n",
        "\r\n",
        "  # add the list of all flight to the document\r\n",
        "  document['flights'] = flights\r\n",
        "  with open('result.json', 'w') as fp:\r\n",
        "    json.dump(document, fp)\r\n",
        "  #print(document) # upload document to mongo!\r\n",
        "  \r\n",
        "  break"
      ],
      "execution_count": null,
      "outputs": []
    },
    {
      "cell_type": "code",
      "metadata": {
        "id": "e7uHFoX9azRp"
      },
      "source": [
        ""
      ],
      "execution_count": null,
      "outputs": []
    }
  ]
}